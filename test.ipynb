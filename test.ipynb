{
 "cells": [
  {
   "cell_type": "code",
   "execution_count": 1,
   "metadata": {},
   "outputs": [],
   "source": [
    "import robo_constructor as rc"
   ]
  },
  {
   "cell_type": "code",
   "execution_count": 2,
   "metadata": {},
   "outputs": [],
   "source": [
    "n_embed = 512\n",
    "dec_n_blocks = 6\n",
    "dec_n_head = 8\n",
    "dec_vocab_size = 3000\n",
    "dec_block_size = 32\n",
    "dec_expansion_factor = 4\n",
    "enc_n_blocks = 6\n",
    "enc_n_head = 8\n",
    "enc_vocab_size = 3000\n",
    "enc_block_size = 32\n",
    "enc_expansion_factor = 4"
   ]
  },
  {
   "cell_type": "code",
   "execution_count": 3,
   "metadata": {},
   "outputs": [],
   "source": [
    "robo = rc.Constructor(n_embed,\n",
    "               dec_n_blocks=dec_n_blocks,\n",
    "               dec_n_head=dec_n_head,\n",
    "               dec_vocab_size=dec_vocab_size,\n",
    "               dec_block_size=dec_block_size,\n",
    "               dec_expansion_factor=dec_expansion_factor)"
   ]
  },
  {
   "cell_type": "code",
   "execution_count": 10,
   "metadata": {},
   "outputs": [
    {
     "ename": "TypeError",
     "evalue": "train() missing 5 required positional arguments: 'max_iters', 'eval_interval', 'batch_size', 'dec_training_path', and 'dec_eval_path'",
     "output_type": "error",
     "traceback": [
      "\u001b[1;31m---------------------------------------------------------------------------\u001b[0m",
      "\u001b[1;31mTypeError\u001b[0m                                 Traceback (most recent call last)",
      "Cell \u001b[1;32mIn[10], line 1\u001b[0m\n\u001b[1;32m----> 1\u001b[0m \u001b[43mrobo\u001b[49m\u001b[38;5;241;43m.\u001b[39;49m\u001b[43mtrain\u001b[49m\u001b[43m(\u001b[49m\u001b[43m)\u001b[49m\n",
      "\u001b[1;31mTypeError\u001b[0m: train() missing 5 required positional arguments: 'max_iters', 'eval_interval', 'batch_size', 'dec_training_path', and 'dec_eval_path'"
     ]
    }
   ],
   "source": [
    "robo.train()"
   ]
  },
  {
   "cell_type": "code",
   "execution_count": 4,
   "metadata": {},
   "outputs": [],
   "source": [
    "training_paths = [\"formatted_lines.txt\"]"
   ]
  },
  {
   "cell_type": "code",
   "execution_count": 5,
   "metadata": {},
   "outputs": [],
   "source": [
    "tok = rc.tokenizer_constructor(training_paths=training_paths)"
   ]
  },
  {
   "cell_type": "code",
   "execution_count": 9,
   "metadata": {},
   "outputs": [
    {
     "name": "stdout",
     "output_type": "stream",
     "text": [
      "[488, 190, 138, 72, 33, 0, 710, 53, 2249, 9652, 15928, 47]\n",
      "hi how are you ? cha o chi bain abe i\n"
     ]
    }
   ],
   "source": [
    "x = tok.encode(\"hi how are you?<unk>\")\n",
    "print(x)\n",
    "print(tok.decode(x))\n"
   ]
  },
  {
   "cell_type": "code",
   "execution_count": null,
   "metadata": {},
   "outputs": [],
   "source": [
    "tok"
   ]
  }
 ],
 "metadata": {
  "kernelspec": {
   "display_name": "Python 3",
   "language": "python",
   "name": "python3"
  },
  "language_info": {
   "codemirror_mode": {
    "name": "ipython",
    "version": 3
   },
   "file_extension": ".py",
   "mimetype": "text/x-python",
   "name": "python",
   "nbconvert_exporter": "python",
   "pygments_lexer": "ipython3",
   "version": "3.9.6"
  }
 },
 "nbformat": 4,
 "nbformat_minor": 2
}
